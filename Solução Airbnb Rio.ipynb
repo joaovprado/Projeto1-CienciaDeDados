{
 "cells": [
  {
   "cell_type": "markdown",
   "metadata": {},
   "source": [
    "# Projeto Airbnb Rio - Ferramenta de Previsão de Preço de Imóvel para pessoas comuns "
   ]
  },
  {
   "cell_type": "markdown",
   "metadata": {},
   "source": [
    "### Contexto\n",
    "\n",
    "No Airbnb, qualquer pessoa que tenha um quarto ou um imóvel de qualquer tipo (apartamento, casa, chalé, pousada, etc.) pode ofertar o seu imóvel para ser alugado por diária.\n",
    "\n",
    "Você cria o seu perfil de host (pessoa que disponibiliza um imóvel para aluguel por diária) e cria o anúncio do seu imóvel.\n",
    "\n",
    "Nesse anúncio, o host deve descrever as características do imóvel da forma mais completa possível, de forma a ajudar os locadores/viajantes a escolherem o melhor imóvel para eles (e de forma a tornar o seu anúncio mais atrativo)\n",
    "\n",
    "Existem dezenas de personalizações possíveis no seu anúncio, desde quantidade mínima de diária, preço, quantidade de quartos, até regras de cancelamento, taxa extra para hóspedes extras, exigência de verificação de identidade do locador, etc.\n",
    "\n",
    "### Nosso objetivo\n",
    "\n",
    "Construir um modelo de previsão de preço que permita uma pessoa comum que possui um imóvel possa saber quanto deve cobrar pela diária do seu imóvel.\n",
    "\n",
    "Ou ainda, para o locador comum, dado o imóvel que ele está buscando, ajudar a saber se aquele imóvel está com preço atrativo (abaixo da média para imóveis com as mesmas características) ou não.\n",
    "\n",
    "### O que temos disponível, inspirações e créditos\n",
    "\n",
    "As bases de dados foram retiradas do site kaggle: https://www.kaggle.com/allanbruno/airbnb-rio-de-janeiro\n",
    "\n",
    "Elas estão disponíveis para download abaixo da aula (se você puxar os dados direto do Kaggle pode ser que encontre resultados diferentes dos meus, afinal as bases de dados podem ter sido atualizadas).\n",
    "\n",
    "Caso queira uma outra solução, podemos olhar como referência a solução do usuário Allan Bruno do kaggle no Notebook: https://www.kaggle.com/allanbruno/helping-regular-people-price-listings-on-airbnb\n",
    "\n",
    "Você vai perceber semelhanças entre a solução que vamos desenvolver aqui e a dele, mas também algumas diferenças significativas no processo de construção do projeto.\n",
    "\n",
    "- As bases de dados são os preços dos imóveis obtidos e suas respectivas características em cada mês.\n",
    "- Os preços são dados em reais (R$)\n",
    "- Temos bases de abril de 2018 a maio de 2020, com exceção de junho de 2018 que não possui base de dados\n",
    "\n",
    "### Expectativas Iniciais\n",
    "\n",
    "- Acredito que a sazonalidade pode ser um fator importante, visto que meses como dezembro costumam ser bem caros no RJ\n",
    "- A localização do imóvel deve fazer muita diferença no preço, já que no Rio de Janeiro a localização pode mudar completamente as características do lugar (segurança, beleza natural, pontos turísticos)\n",
    "- Adicionais/Comodidades podem ter um impacto significativo, visto que temos muitos prédios e casas antigos no Rio de Janeiro\n",
    "\n",
    "Vamos descobrir o quanto esses fatores impactam e se temos outros fatores não tão intuitivos que são extremamente importantes."
   ]
  },
  {
   "cell_type": "markdown",
   "metadata": {},
   "source": [
    "### Importar Bibliotecas e Bases de Dados"
   ]
  },
  {
   "cell_type": "code",
   "execution_count": 1,
   "metadata": {},
   "outputs": [],
   "source": [
    "import pandas as pd\n",
    "import os\n",
    "\n",
    "lista_dfs = [pd.read_csv('../dataset/'+file, low_memory=False) for file in os.listdir('../dataset')]\n",
    "df = pd.concat(lista_dfs)"
   ]
  },
  {
   "cell_type": "code",
   "execution_count": 2,
   "metadata": {
    "pycharm": {
     "name": "#%%\n"
    }
   },
   "outputs": [
    {
     "data": {
      "text/plain": "                 id     scrape_id  thumbnail_url  medium_url  xl_picture_url  \\\ncount  9.022100e+05  9.022100e+05            0.0         0.0             0.0   \nmean   1.633599e+07  2.018929e+13            NaN         NaN             NaN   \nstd    1.064923e+07  7.000550e+09            NaN         NaN             NaN   \nmin    1.406300e+04  2.018041e+13            NaN         NaN             NaN   \n25%    9.503349e+06  2.018101e+13            NaN         NaN             NaN   \n50%    1.397960e+07  2.019052e+13            NaN         NaN             NaN   \n75%    2.269854e+07  2.019112e+13            NaN         NaN             NaN   \nmax    4.352478e+07  2.020052e+13            NaN         NaN             NaN   \n\n            host_id  host_listings_count  host_total_listings_count  \\\ncount  9.022100e+05        901750.000000              901750.000000   \nmean   6.570811e+07             8.529062                   8.529062   \nstd    6.744162e+07            46.985890                  46.985890   \nmin    2.616000e+03             0.000000                   0.000000   \n25%    1.388483e+07             1.000000                   1.000000   \n50%    4.989532e+07             1.000000                   1.000000   \n75%    8.490066e+07             3.000000                   3.000000   \nmax    3.468845e+08          1495.000000                1495.000000   \n\n       neighbourhood_group_cleansed       latitude  ...  \\\ncount                           0.0  902210.000000  ...   \nmean                            NaN     -22.965303  ...   \nstd                             NaN       0.034800  ...   \nmin                             NaN     -23.073400  ...   \n25%                             NaN     -22.984690  ...   \n50%                             NaN     -22.970651  ...   \n75%                             NaN     -22.945897  ...   \nmax                             NaN     -22.748953  ...   \n\n       minimum_minimum_nights  maximum_minimum_nights  minimum_maximum_nights  \\\ncount           600999.000000           600999.000000            6.009990e+05   \nmean                 4.600109                5.082982            1.617606e+04   \nstd                 20.762506               21.450968            3.870403e+06   \nmin                  1.000000                1.000000            1.000000e+00   \n25%                  1.000000                1.000000            3.000000e+01   \n50%                  2.000000                3.000000            1.125000e+03   \n75%                  4.000000                5.000000            1.125000e+03   \nmax               1095.000000             1095.000000            1.000000e+09   \n\n       maximum_maximum_nights  minimum_nights_avg_ntm  maximum_nights_avg_ntm  \\\ncount            6.009990e+05           600999.000000            6.009990e+05   \nmean             1.618088e+04                4.719619            1.617817e+04   \nstd              3.870403e+06               20.906681            3.870403e+06   \nmin              1.000000e+00                1.000000            1.000000e+00   \n25%              3.000000e+01                1.000000            3.000000e+01   \n50%              1.125000e+03                2.200000            1.125000e+03   \n75%              1.125000e+03                4.000000            1.125000e+03   \nmax              1.000000e+09             1095.000000            1.000000e+09   \n\n       number_of_reviews_ltm  calculated_host_listings_count_entire_homes  \\\ncount          600999.000000                                600999.000000   \nmean                3.028368                                     6.132523   \nstd                 7.496472                                    26.557465   \nmin                 0.000000                                     0.000000   \n25%                 0.000000                                     1.000000   \n50%                 0.000000                                     1.000000   \n75%                 2.000000                                     2.000000   \nmax               127.000000                                   322.000000   \n\n       calculated_host_listings_count_private_rooms  \\\ncount                                 600999.000000   \nmean                                       0.741041   \nstd                                        1.779123   \nmin                                        0.000000   \n25%                                        0.000000   \n50%                                        0.000000   \n75%                                        1.000000   \nmax                                       40.000000   \n\n       calculated_host_listings_count_shared_rooms  \ncount                                600999.000000  \nmean                                      0.094549  \nstd                                       0.774642  \nmin                                       0.000000  \n25%                                       0.000000  \n50%                                       0.000000  \n75%                                       0.000000  \nmax                                      23.000000  \n\n[8 rows x 44 columns]",
      "text/html": "<div>\n<style scoped>\n    .dataframe tbody tr th:only-of-type {\n        vertical-align: middle;\n    }\n\n    .dataframe tbody tr th {\n        vertical-align: top;\n    }\n\n    .dataframe thead th {\n        text-align: right;\n    }\n</style>\n<table border=\"1\" class=\"dataframe\">\n  <thead>\n    <tr style=\"text-align: right;\">\n      <th></th>\n      <th>id</th>\n      <th>scrape_id</th>\n      <th>thumbnail_url</th>\n      <th>medium_url</th>\n      <th>xl_picture_url</th>\n      <th>host_id</th>\n      <th>host_listings_count</th>\n      <th>host_total_listings_count</th>\n      <th>neighbourhood_group_cleansed</th>\n      <th>latitude</th>\n      <th>...</th>\n      <th>minimum_minimum_nights</th>\n      <th>maximum_minimum_nights</th>\n      <th>minimum_maximum_nights</th>\n      <th>maximum_maximum_nights</th>\n      <th>minimum_nights_avg_ntm</th>\n      <th>maximum_nights_avg_ntm</th>\n      <th>number_of_reviews_ltm</th>\n      <th>calculated_host_listings_count_entire_homes</th>\n      <th>calculated_host_listings_count_private_rooms</th>\n      <th>calculated_host_listings_count_shared_rooms</th>\n    </tr>\n  </thead>\n  <tbody>\n    <tr>\n      <th>count</th>\n      <td>9.022100e+05</td>\n      <td>9.022100e+05</td>\n      <td>0.0</td>\n      <td>0.0</td>\n      <td>0.0</td>\n      <td>9.022100e+05</td>\n      <td>901750.000000</td>\n      <td>901750.000000</td>\n      <td>0.0</td>\n      <td>902210.000000</td>\n      <td>...</td>\n      <td>600999.000000</td>\n      <td>600999.000000</td>\n      <td>6.009990e+05</td>\n      <td>6.009990e+05</td>\n      <td>600999.000000</td>\n      <td>6.009990e+05</td>\n      <td>600999.000000</td>\n      <td>600999.000000</td>\n      <td>600999.000000</td>\n      <td>600999.000000</td>\n    </tr>\n    <tr>\n      <th>mean</th>\n      <td>1.633599e+07</td>\n      <td>2.018929e+13</td>\n      <td>NaN</td>\n      <td>NaN</td>\n      <td>NaN</td>\n      <td>6.570811e+07</td>\n      <td>8.529062</td>\n      <td>8.529062</td>\n      <td>NaN</td>\n      <td>-22.965303</td>\n      <td>...</td>\n      <td>4.600109</td>\n      <td>5.082982</td>\n      <td>1.617606e+04</td>\n      <td>1.618088e+04</td>\n      <td>4.719619</td>\n      <td>1.617817e+04</td>\n      <td>3.028368</td>\n      <td>6.132523</td>\n      <td>0.741041</td>\n      <td>0.094549</td>\n    </tr>\n    <tr>\n      <th>std</th>\n      <td>1.064923e+07</td>\n      <td>7.000550e+09</td>\n      <td>NaN</td>\n      <td>NaN</td>\n      <td>NaN</td>\n      <td>6.744162e+07</td>\n      <td>46.985890</td>\n      <td>46.985890</td>\n      <td>NaN</td>\n      <td>0.034800</td>\n      <td>...</td>\n      <td>20.762506</td>\n      <td>21.450968</td>\n      <td>3.870403e+06</td>\n      <td>3.870403e+06</td>\n      <td>20.906681</td>\n      <td>3.870403e+06</td>\n      <td>7.496472</td>\n      <td>26.557465</td>\n      <td>1.779123</td>\n      <td>0.774642</td>\n    </tr>\n    <tr>\n      <th>min</th>\n      <td>1.406300e+04</td>\n      <td>2.018041e+13</td>\n      <td>NaN</td>\n      <td>NaN</td>\n      <td>NaN</td>\n      <td>2.616000e+03</td>\n      <td>0.000000</td>\n      <td>0.000000</td>\n      <td>NaN</td>\n      <td>-23.073400</td>\n      <td>...</td>\n      <td>1.000000</td>\n      <td>1.000000</td>\n      <td>1.000000e+00</td>\n      <td>1.000000e+00</td>\n      <td>1.000000</td>\n      <td>1.000000e+00</td>\n      <td>0.000000</td>\n      <td>0.000000</td>\n      <td>0.000000</td>\n      <td>0.000000</td>\n    </tr>\n    <tr>\n      <th>25%</th>\n      <td>9.503349e+06</td>\n      <td>2.018101e+13</td>\n      <td>NaN</td>\n      <td>NaN</td>\n      <td>NaN</td>\n      <td>1.388483e+07</td>\n      <td>1.000000</td>\n      <td>1.000000</td>\n      <td>NaN</td>\n      <td>-22.984690</td>\n      <td>...</td>\n      <td>1.000000</td>\n      <td>1.000000</td>\n      <td>3.000000e+01</td>\n      <td>3.000000e+01</td>\n      <td>1.000000</td>\n      <td>3.000000e+01</td>\n      <td>0.000000</td>\n      <td>1.000000</td>\n      <td>0.000000</td>\n      <td>0.000000</td>\n    </tr>\n    <tr>\n      <th>50%</th>\n      <td>1.397960e+07</td>\n      <td>2.019052e+13</td>\n      <td>NaN</td>\n      <td>NaN</td>\n      <td>NaN</td>\n      <td>4.989532e+07</td>\n      <td>1.000000</td>\n      <td>1.000000</td>\n      <td>NaN</td>\n      <td>-22.970651</td>\n      <td>...</td>\n      <td>2.000000</td>\n      <td>3.000000</td>\n      <td>1.125000e+03</td>\n      <td>1.125000e+03</td>\n      <td>2.200000</td>\n      <td>1.125000e+03</td>\n      <td>0.000000</td>\n      <td>1.000000</td>\n      <td>0.000000</td>\n      <td>0.000000</td>\n    </tr>\n    <tr>\n      <th>75%</th>\n      <td>2.269854e+07</td>\n      <td>2.019112e+13</td>\n      <td>NaN</td>\n      <td>NaN</td>\n      <td>NaN</td>\n      <td>8.490066e+07</td>\n      <td>3.000000</td>\n      <td>3.000000</td>\n      <td>NaN</td>\n      <td>-22.945897</td>\n      <td>...</td>\n      <td>4.000000</td>\n      <td>5.000000</td>\n      <td>1.125000e+03</td>\n      <td>1.125000e+03</td>\n      <td>4.000000</td>\n      <td>1.125000e+03</td>\n      <td>2.000000</td>\n      <td>2.000000</td>\n      <td>1.000000</td>\n      <td>0.000000</td>\n    </tr>\n    <tr>\n      <th>max</th>\n      <td>4.352478e+07</td>\n      <td>2.020052e+13</td>\n      <td>NaN</td>\n      <td>NaN</td>\n      <td>NaN</td>\n      <td>3.468845e+08</td>\n      <td>1495.000000</td>\n      <td>1495.000000</td>\n      <td>NaN</td>\n      <td>-22.748953</td>\n      <td>...</td>\n      <td>1095.000000</td>\n      <td>1095.000000</td>\n      <td>1.000000e+09</td>\n      <td>1.000000e+09</td>\n      <td>1095.000000</td>\n      <td>1.000000e+09</td>\n      <td>127.000000</td>\n      <td>322.000000</td>\n      <td>40.000000</td>\n      <td>23.000000</td>\n    </tr>\n  </tbody>\n</table>\n<p>8 rows × 44 columns</p>\n</div>"
     },
     "metadata": {},
     "output_type": "display_data"
    },
    {
     "data": {
      "text/plain": "             id                            listing_url       scrape_id  \\\n0         14063     https://www.airbnb.com/rooms/14063  20180414160018   \n1         17878     https://www.airbnb.com/rooms/17878  20180414160018   \n2         24480     https://www.airbnb.com/rooms/24480  20180414160018   \n3         25026     https://www.airbnb.com/rooms/25026  20180414160018   \n4         31560     https://www.airbnb.com/rooms/31560  20180414160018   \n...         ...                                    ...             ...   \n34324  38844730  https://www.airbnb.com/rooms/38844730  20190923212307   \n34325  38846408  https://www.airbnb.com/rooms/38846408  20190923212307   \n34326  38846703  https://www.airbnb.com/rooms/38846703  20190923212307   \n34327  38847050  https://www.airbnb.com/rooms/38847050  20190923212307   \n34328  38847655  https://www.airbnb.com/rooms/38847655  20190923212307   \n\n      last_scraped                                          name  \\\n0       2018-04-14                          Living in a Postcard   \n1       2018-04-14             Very Nice 2Br - Copacabana - WiFi   \n2       2018-04-14              Nice and cozy near Ipanema Beach   \n3       2018-04-14     Beautiful Modern Decorated Studio in Copa   \n4       2018-04-14              NICE & COZY 1BDR - IPANEMA BEACH   \n...            ...                                           ...   \n34324   2019-09-24             TRANSAMERICA BARRA DA TIJUCA R IV   \n34325   2019-09-24                      Alugo para o Rock in Rio   \n34326   2019-09-24  Apt COMPLETO em COPACABANA c/TOTAL SEGURANÇA   \n34327   2019-09-24                     Cobertura Cinematografica   \n34328   2019-09-24     Quarto em cobertura em frente à praia III   \n\n                                                 summary  \\\n0      Besides the most iconic's view, our apartment ...   \n1      Please note that special rates apply for New Y...   \n2      My studio is located in the best  of Ipanema. ...   \n3      Our apartment is a little gem, everyone loves ...   \n4      This nice and clean 1 bedroom apartment is loc...   \n...                                                  ...   \n34324  Em estilo contemporâneo, o Transamerica Prime ...   \n34325  Confortável apartamento, 2 quartos , sendo 1 s...   \n34326  Apartamento quarto e sala COMPLETO para curtas...   \n34327                               Cobertura alto nivel   \n34328  Quarto em cobertura quadriplex com vista lindí...   \n\n                                                   space  \\\n0                                                    NaN   \n1      - large balcony which looks out on pedestrian ...   \n2      The studio is located at Vinicius de Moraes St...   \n3      This newly renovated studio (last renovations ...   \n4      This nice and clean 1 bedroom apartment is loc...   \n...                                                  ...   \n34324                                                NaN   \n34325  O apartamento estará com mobília completa disp...   \n34326  Espaço ideal para até 5 pessoas. Cama de casal...   \n34327                                                NaN   \n34328                                                NaN   \n\n                                             description experiences_offered  \\\n0      Besides the most iconic's view, our apartment ...                none   \n1      Please note that special rates apply for New Y...                none   \n2      My studio is located in the best  of Ipanema. ...                none   \n3      Our apartment is a little gem, everyone loves ...                none   \n4      This nice and clean 1 bedroom apartment is loc...                none   \n...                                                  ...                 ...   \n34324  Em estilo contemporâneo, o Transamerica Prime ...                none   \n34325  Confortável apartamento, 2 quartos , sendo 1 s...                none   \n34326  Apartamento quarto e sala COMPLETO para curtas...                none   \n34327                               Cobertura alto nivel                none   \n34328  Quarto em cobertura quadriplex com vista lindí...                none   \n\n                                   neighborhood_overview  ...  \\\n0      Best and favorite neighborhood of Rio. Perfect...  ...   \n1      This is the best spot in Rio. Everything happe...  ...   \n2      The beach, the lagoon, Ipanema is a great loca...  ...   \n3      Copacabana is a lively neighborhood and the ap...  ...   \n4      Die Nachbarschaft von Ipanema ist super lebend...  ...   \n...                                                  ...  ...   \n34324                                                NaN  ...   \n34325  Muito próximo ao Parque Olímpico, local do eve...  ...   \n34326                                                NaN  ...   \n34327                                                NaN  ...   \n34328                                                NaN  ...   \n\n      minimum_minimum_nights maximum_minimum_nights minimum_maximum_nights  \\\n0                        NaN                    NaN                    NaN   \n1                        NaN                    NaN                    NaN   \n2                        NaN                    NaN                    NaN   \n3                        NaN                    NaN                    NaN   \n4                        NaN                    NaN                    NaN   \n...                      ...                    ...                    ...   \n34324                    1.0                    1.0                 1125.0   \n34325                    2.0                    2.0                 1125.0   \n34326                    3.0                    3.0                 1125.0   \n34327                    1.0                    1.0                 1125.0   \n34328                    1.0                    1.0                   30.0   \n\n      maximum_maximum_nights minimum_nights_avg_ntm  maximum_nights_avg_ntm  \\\n0                        NaN                    NaN                     NaN   \n1                        NaN                    NaN                     NaN   \n2                        NaN                    NaN                     NaN   \n3                        NaN                    NaN                     NaN   \n4                        NaN                    NaN                     NaN   \n...                      ...                    ...                     ...   \n34324                 1125.0                    1.0                  1125.0   \n34325                 1125.0                    2.0                  1125.0   \n34326                 1125.0                    3.0                  1125.0   \n34327                 1125.0                    1.0                  1125.0   \n34328                   30.0                    1.0                    30.0   \n\n       number_of_reviews_ltm calculated_host_listings_count_entire_homes  \\\n0                        NaN                                         NaN   \n1                        NaN                                         NaN   \n2                        NaN                                         NaN   \n3                        NaN                                         NaN   \n4                        NaN                                         NaN   \n...                      ...                                         ...   \n34324                    0.0                                        15.0   \n34325                    0.0                                         1.0   \n34326                    0.0                                        23.0   \n34327                    0.0                                         1.0   \n34328                    0.0                                         0.0   \n\n       calculated_host_listings_count_private_rooms  \\\n0                                               NaN   \n1                                               NaN   \n2                                               NaN   \n3                                               NaN   \n4                                               NaN   \n...                                             ...   \n34324                                           0.0   \n34325                                           0.0   \n34326                                           6.0   \n34327                                           0.0   \n34328                                           4.0   \n\n       calculated_host_listings_count_shared_rooms  \n0                                              NaN  \n1                                              NaN  \n2                                              NaN  \n3                                              NaN  \n4                                              NaN  \n...                                            ...  \n34324                                          0.0  \n34325                                          0.0  \n34326                                          0.0  \n34327                                          0.0  \n34328                                          0.0  \n\n[902210 rows x 106 columns]",
      "text/html": "<div>\n<style scoped>\n    .dataframe tbody tr th:only-of-type {\n        vertical-align: middle;\n    }\n\n    .dataframe tbody tr th {\n        vertical-align: top;\n    }\n\n    .dataframe thead th {\n        text-align: right;\n    }\n</style>\n<table border=\"1\" class=\"dataframe\">\n  <thead>\n    <tr style=\"text-align: right;\">\n      <th></th>\n      <th>id</th>\n      <th>listing_url</th>\n      <th>scrape_id</th>\n      <th>last_scraped</th>\n      <th>name</th>\n      <th>summary</th>\n      <th>space</th>\n      <th>description</th>\n      <th>experiences_offered</th>\n      <th>neighborhood_overview</th>\n      <th>...</th>\n      <th>minimum_minimum_nights</th>\n      <th>maximum_minimum_nights</th>\n      <th>minimum_maximum_nights</th>\n      <th>maximum_maximum_nights</th>\n      <th>minimum_nights_avg_ntm</th>\n      <th>maximum_nights_avg_ntm</th>\n      <th>number_of_reviews_ltm</th>\n      <th>calculated_host_listings_count_entire_homes</th>\n      <th>calculated_host_listings_count_private_rooms</th>\n      <th>calculated_host_listings_count_shared_rooms</th>\n    </tr>\n  </thead>\n  <tbody>\n    <tr>\n      <th>0</th>\n      <td>14063</td>\n      <td>https://www.airbnb.com/rooms/14063</td>\n      <td>20180414160018</td>\n      <td>2018-04-14</td>\n      <td>Living in a Postcard</td>\n      <td>Besides the most iconic's view, our apartment ...</td>\n      <td>NaN</td>\n      <td>Besides the most iconic's view, our apartment ...</td>\n      <td>none</td>\n      <td>Best and favorite neighborhood of Rio. Perfect...</td>\n      <td>...</td>\n      <td>NaN</td>\n      <td>NaN</td>\n      <td>NaN</td>\n      <td>NaN</td>\n      <td>NaN</td>\n      <td>NaN</td>\n      <td>NaN</td>\n      <td>NaN</td>\n      <td>NaN</td>\n      <td>NaN</td>\n    </tr>\n    <tr>\n      <th>1</th>\n      <td>17878</td>\n      <td>https://www.airbnb.com/rooms/17878</td>\n      <td>20180414160018</td>\n      <td>2018-04-14</td>\n      <td>Very Nice 2Br - Copacabana - WiFi</td>\n      <td>Please note that special rates apply for New Y...</td>\n      <td>- large balcony which looks out on pedestrian ...</td>\n      <td>Please note that special rates apply for New Y...</td>\n      <td>none</td>\n      <td>This is the best spot in Rio. Everything happe...</td>\n      <td>...</td>\n      <td>NaN</td>\n      <td>NaN</td>\n      <td>NaN</td>\n      <td>NaN</td>\n      <td>NaN</td>\n      <td>NaN</td>\n      <td>NaN</td>\n      <td>NaN</td>\n      <td>NaN</td>\n      <td>NaN</td>\n    </tr>\n    <tr>\n      <th>2</th>\n      <td>24480</td>\n      <td>https://www.airbnb.com/rooms/24480</td>\n      <td>20180414160018</td>\n      <td>2018-04-14</td>\n      <td>Nice and cozy near Ipanema Beach</td>\n      <td>My studio is located in the best  of Ipanema. ...</td>\n      <td>The studio is located at Vinicius de Moraes St...</td>\n      <td>My studio is located in the best  of Ipanema. ...</td>\n      <td>none</td>\n      <td>The beach, the lagoon, Ipanema is a great loca...</td>\n      <td>...</td>\n      <td>NaN</td>\n      <td>NaN</td>\n      <td>NaN</td>\n      <td>NaN</td>\n      <td>NaN</td>\n      <td>NaN</td>\n      <td>NaN</td>\n      <td>NaN</td>\n      <td>NaN</td>\n      <td>NaN</td>\n    </tr>\n    <tr>\n      <th>3</th>\n      <td>25026</td>\n      <td>https://www.airbnb.com/rooms/25026</td>\n      <td>20180414160018</td>\n      <td>2018-04-14</td>\n      <td>Beautiful Modern Decorated Studio in Copa</td>\n      <td>Our apartment is a little gem, everyone loves ...</td>\n      <td>This newly renovated studio (last renovations ...</td>\n      <td>Our apartment is a little gem, everyone loves ...</td>\n      <td>none</td>\n      <td>Copacabana is a lively neighborhood and the ap...</td>\n      <td>...</td>\n      <td>NaN</td>\n      <td>NaN</td>\n      <td>NaN</td>\n      <td>NaN</td>\n      <td>NaN</td>\n      <td>NaN</td>\n      <td>NaN</td>\n      <td>NaN</td>\n      <td>NaN</td>\n      <td>NaN</td>\n    </tr>\n    <tr>\n      <th>4</th>\n      <td>31560</td>\n      <td>https://www.airbnb.com/rooms/31560</td>\n      <td>20180414160018</td>\n      <td>2018-04-14</td>\n      <td>NICE &amp; COZY 1BDR - IPANEMA BEACH</td>\n      <td>This nice and clean 1 bedroom apartment is loc...</td>\n      <td>This nice and clean 1 bedroom apartment is loc...</td>\n      <td>This nice and clean 1 bedroom apartment is loc...</td>\n      <td>none</td>\n      <td>Die Nachbarschaft von Ipanema ist super lebend...</td>\n      <td>...</td>\n      <td>NaN</td>\n      <td>NaN</td>\n      <td>NaN</td>\n      <td>NaN</td>\n      <td>NaN</td>\n      <td>NaN</td>\n      <td>NaN</td>\n      <td>NaN</td>\n      <td>NaN</td>\n      <td>NaN</td>\n    </tr>\n    <tr>\n      <th>...</th>\n      <td>...</td>\n      <td>...</td>\n      <td>...</td>\n      <td>...</td>\n      <td>...</td>\n      <td>...</td>\n      <td>...</td>\n      <td>...</td>\n      <td>...</td>\n      <td>...</td>\n      <td>...</td>\n      <td>...</td>\n      <td>...</td>\n      <td>...</td>\n      <td>...</td>\n      <td>...</td>\n      <td>...</td>\n      <td>...</td>\n      <td>...</td>\n      <td>...</td>\n      <td>...</td>\n    </tr>\n    <tr>\n      <th>34324</th>\n      <td>38844730</td>\n      <td>https://www.airbnb.com/rooms/38844730</td>\n      <td>20190923212307</td>\n      <td>2019-09-24</td>\n      <td>TRANSAMERICA BARRA DA TIJUCA R IV</td>\n      <td>Em estilo contemporâneo, o Transamerica Prime ...</td>\n      <td>NaN</td>\n      <td>Em estilo contemporâneo, o Transamerica Prime ...</td>\n      <td>none</td>\n      <td>NaN</td>\n      <td>...</td>\n      <td>1.0</td>\n      <td>1.0</td>\n      <td>1125.0</td>\n      <td>1125.0</td>\n      <td>1.0</td>\n      <td>1125.0</td>\n      <td>0.0</td>\n      <td>15.0</td>\n      <td>0.0</td>\n      <td>0.0</td>\n    </tr>\n    <tr>\n      <th>34325</th>\n      <td>38846408</td>\n      <td>https://www.airbnb.com/rooms/38846408</td>\n      <td>20190923212307</td>\n      <td>2019-09-24</td>\n      <td>Alugo para o Rock in Rio</td>\n      <td>Confortável apartamento, 2 quartos , sendo 1 s...</td>\n      <td>O apartamento estará com mobília completa disp...</td>\n      <td>Confortável apartamento, 2 quartos , sendo 1 s...</td>\n      <td>none</td>\n      <td>Muito próximo ao Parque Olímpico, local do eve...</td>\n      <td>...</td>\n      <td>2.0</td>\n      <td>2.0</td>\n      <td>1125.0</td>\n      <td>1125.0</td>\n      <td>2.0</td>\n      <td>1125.0</td>\n      <td>0.0</td>\n      <td>1.0</td>\n      <td>0.0</td>\n      <td>0.0</td>\n    </tr>\n    <tr>\n      <th>34326</th>\n      <td>38846703</td>\n      <td>https://www.airbnb.com/rooms/38846703</td>\n      <td>20190923212307</td>\n      <td>2019-09-24</td>\n      <td>Apt COMPLETO em COPACABANA c/TOTAL SEGURANÇA</td>\n      <td>Apartamento quarto e sala COMPLETO para curtas...</td>\n      <td>Espaço ideal para até 5 pessoas. Cama de casal...</td>\n      <td>Apartamento quarto e sala COMPLETO para curtas...</td>\n      <td>none</td>\n      <td>NaN</td>\n      <td>...</td>\n      <td>3.0</td>\n      <td>3.0</td>\n      <td>1125.0</td>\n      <td>1125.0</td>\n      <td>3.0</td>\n      <td>1125.0</td>\n      <td>0.0</td>\n      <td>23.0</td>\n      <td>6.0</td>\n      <td>0.0</td>\n    </tr>\n    <tr>\n      <th>34327</th>\n      <td>38847050</td>\n      <td>https://www.airbnb.com/rooms/38847050</td>\n      <td>20190923212307</td>\n      <td>2019-09-24</td>\n      <td>Cobertura Cinematografica</td>\n      <td>Cobertura alto nivel</td>\n      <td>NaN</td>\n      <td>Cobertura alto nivel</td>\n      <td>none</td>\n      <td>NaN</td>\n      <td>...</td>\n      <td>1.0</td>\n      <td>1.0</td>\n      <td>1125.0</td>\n      <td>1125.0</td>\n      <td>1.0</td>\n      <td>1125.0</td>\n      <td>0.0</td>\n      <td>1.0</td>\n      <td>0.0</td>\n      <td>0.0</td>\n    </tr>\n    <tr>\n      <th>34328</th>\n      <td>38847655</td>\n      <td>https://www.airbnb.com/rooms/38847655</td>\n      <td>20190923212307</td>\n      <td>2019-09-24</td>\n      <td>Quarto em cobertura em frente à praia III</td>\n      <td>Quarto em cobertura quadriplex com vista lindí...</td>\n      <td>NaN</td>\n      <td>Quarto em cobertura quadriplex com vista lindí...</td>\n      <td>none</td>\n      <td>NaN</td>\n      <td>...</td>\n      <td>1.0</td>\n      <td>1.0</td>\n      <td>30.0</td>\n      <td>30.0</td>\n      <td>1.0</td>\n      <td>30.0</td>\n      <td>0.0</td>\n      <td>0.0</td>\n      <td>4.0</td>\n      <td>0.0</td>\n    </tr>\n  </tbody>\n</table>\n<p>902210 rows × 106 columns</p>\n</div>"
     },
     "execution_count": 2,
     "metadata": {},
     "output_type": "execute_result"
    }
   ],
   "source": [
    "display(df.describe())\n",
    "\n",
    "df"
   ]
  },
  {
   "cell_type": "markdown",
   "metadata": {},
   "source": [
    "### Consolidar Base de Dados"
   ]
  },
  {
   "cell_type": "code",
   "execution_count": null,
   "metadata": {},
   "outputs": [],
   "source": []
  },
  {
   "cell_type": "markdown",
   "metadata": {},
   "source": [
    "### Se tivermos muitas colunas, já vamos identificar quais colunas podemos excluir"
   ]
  },
  {
   "cell_type": "code",
   "execution_count": null,
   "metadata": {},
   "outputs": [],
   "source": []
  },
  {
   "cell_type": "markdown",
   "metadata": {},
   "source": [
    "### Tratar Valores Faltando"
   ]
  },
  {
   "cell_type": "code",
   "execution_count": null,
   "metadata": {},
   "outputs": [],
   "source": []
  },
  {
   "cell_type": "markdown",
   "metadata": {},
   "source": [
    "### Verificar Tipos de Dados em cada coluna"
   ]
  },
  {
   "cell_type": "code",
   "execution_count": null,
   "metadata": {},
   "outputs": [],
   "source": []
  },
  {
   "cell_type": "markdown",
   "metadata": {},
   "source": [
    "### Análise Exploratória e Tratar Outliers"
   ]
  },
  {
   "cell_type": "code",
   "execution_count": null,
   "metadata": {},
   "outputs": [],
   "source": []
  },
  {
   "cell_type": "markdown",
   "metadata": {},
   "source": [
    "### Encoding"
   ]
  },
  {
   "cell_type": "code",
   "execution_count": null,
   "metadata": {},
   "outputs": [],
   "source": []
  },
  {
   "cell_type": "markdown",
   "metadata": {},
   "source": [
    "### Modelo de Previsão"
   ]
  },
  {
   "cell_type": "code",
   "execution_count": null,
   "metadata": {},
   "outputs": [],
   "source": []
  },
  {
   "cell_type": "markdown",
   "metadata": {},
   "source": [
    "### Análise do Melhor Modelo"
   ]
  },
  {
   "cell_type": "code",
   "execution_count": null,
   "metadata": {},
   "outputs": [],
   "source": []
  },
  {
   "cell_type": "markdown",
   "metadata": {},
   "source": [
    "### Ajustes e Melhorias no Melhor Modelo"
   ]
  },
  {
   "cell_type": "code",
   "execution_count": null,
   "metadata": {},
   "outputs": [],
   "source": []
  }
 ],
 "metadata": {
  "kernelspec": {
   "display_name": "Python 3 (ipykernel)",
   "language": "python",
   "name": "python3"
  },
  "language_info": {
   "codemirror_mode": {
    "name": "ipython",
    "version": 3
   },
   "file_extension": ".py",
   "mimetype": "text/x-python",
   "name": "python",
   "nbconvert_exporter": "python",
   "pygments_lexer": "ipython3",
   "version": "3.9.5"
  }
 },
 "nbformat": 4,
 "nbformat_minor": 4
}